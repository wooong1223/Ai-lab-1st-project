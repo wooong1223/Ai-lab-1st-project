{
 "cells": [
  {
   "cell_type": "code",
   "execution_count": 1,
   "id": "58906d0e",
   "metadata": {},
   "outputs": [
    {
     "name": "stdout",
     "output_type": "stream",
     "text": [
      "Defaulting to user installation because normal site-packages is not writeable\n",
      "Requirement already satisfied: selenium in c:\\users\\한지웅\\appdata\\roaming\\python\\python39\\site-packages (4.19.0)\n",
      "Requirement already satisfied: trio~=0.17 in c:\\users\\한지웅\\appdata\\roaming\\python\\python39\\site-packages (from selenium) (0.25.0)\n",
      "Requirement already satisfied: typing_extensions>=4.9.0 in c:\\users\\한지웅\\appdata\\roaming\\python\\python39\\site-packages (from selenium) (4.10.0)\n",
      "Requirement already satisfied: trio-websocket~=0.9 in c:\\users\\한지웅\\appdata\\roaming\\python\\python39\\site-packages (from selenium) (0.11.1)\n",
      "Requirement already satisfied: urllib3[socks]<3,>=1.26 in c:\\programdata\\anaconda3\\lib\\site-packages (from selenium) (1.26.11)\n",
      "Requirement already satisfied: certifi>=2021.10.8 in c:\\programdata\\anaconda3\\lib\\site-packages (from selenium) (2022.9.14)\n",
      "Requirement already satisfied: cffi>=1.14 in c:\\programdata\\anaconda3\\lib\\site-packages (from trio~=0.17->selenium) (1.15.1)\n",
      "Requirement already satisfied: sortedcontainers in c:\\programdata\\anaconda3\\lib\\site-packages (from trio~=0.17->selenium) (2.4.0)\n",
      "Requirement already satisfied: sniffio>=1.3.0 in c:\\users\\한지웅\\appdata\\roaming\\python\\python39\\site-packages (from trio~=0.17->selenium) (1.3.1)\n",
      "Requirement already satisfied: outcome in c:\\users\\한지웅\\appdata\\roaming\\python\\python39\\site-packages (from trio~=0.17->selenium) (1.3.0.post0)\n",
      "Requirement already satisfied: attrs>=23.2.0 in c:\\users\\한지웅\\appdata\\roaming\\python\\python39\\site-packages (from trio~=0.17->selenium) (23.2.0)\n",
      "Requirement already satisfied: idna in c:\\programdata\\anaconda3\\lib\\site-packages (from trio~=0.17->selenium) (3.3)\n",
      "Requirement already satisfied: exceptiongroup in c:\\users\\한지웅\\appdata\\roaming\\python\\python39\\site-packages (from trio~=0.17->selenium) (1.2.0)\n",
      "Requirement already satisfied: wsproto>=0.14 in c:\\users\\한지웅\\appdata\\roaming\\python\\python39\\site-packages (from trio-websocket~=0.9->selenium) (1.2.0)\n",
      "Requirement already satisfied: PySocks!=1.5.7,<2.0,>=1.5.6 in c:\\programdata\\anaconda3\\lib\\site-packages (from urllib3[socks]<3,>=1.26->selenium) (1.7.1)\n",
      "Requirement already satisfied: pycparser in c:\\programdata\\anaconda3\\lib\\site-packages (from cffi>=1.14->trio~=0.17->selenium) (2.21)\n",
      "Requirement already satisfied: h11<1,>=0.9.0 in c:\\users\\한지웅\\appdata\\roaming\\python\\python39\\site-packages (from wsproto>=0.14->trio-websocket~=0.9->selenium) (0.14.0)\n",
      "Note: you may need to restart the kernel to use updated packages.\n"
     ]
    }
   ],
   "source": [
    "%pip install selenium"
   ]
  },
  {
   "cell_type": "code",
   "execution_count": 2,
   "id": "b6c9ac8c",
   "metadata": {},
   "outputs": [
    {
     "name": "stdout",
     "output_type": "stream",
     "text": [
      "Defaulting to user installation because normal site-packages is not writeable\n",
      "Requirement already satisfied: webdriver-manager in c:\\users\\한지웅\\appdata\\roaming\\python\\python39\\site-packages (4.0.1)\n",
      "Requirement already satisfied: python-dotenv in c:\\users\\한지웅\\appdata\\roaming\\python\\python39\\site-packages (from webdriver-manager) (1.0.1)\n",
      "Requirement already satisfied: requests in c:\\programdata\\anaconda3\\lib\\site-packages (from webdriver-manager) (2.28.1)\n",
      "Requirement already satisfied: packaging in c:\\programdata\\anaconda3\\lib\\site-packages (from webdriver-manager) (21.3)\n",
      "Requirement already satisfied: pyparsing!=3.0.5,>=2.0.2 in c:\\programdata\\anaconda3\\lib\\site-packages (from packaging->webdriver-manager) (3.0.9)\n",
      "Requirement already satisfied: charset-normalizer<3,>=2 in c:\\programdata\\anaconda3\\lib\\site-packages (from requests->webdriver-manager) (2.0.4)\n",
      "Requirement already satisfied: urllib3<1.27,>=1.21.1 in c:\\programdata\\anaconda3\\lib\\site-packages (from requests->webdriver-manager) (1.26.11)\n",
      "Requirement already satisfied: idna<4,>=2.5 in c:\\programdata\\anaconda3\\lib\\site-packages (from requests->webdriver-manager) (3.3)\n",
      "Requirement already satisfied: certifi>=2017.4.17 in c:\\programdata\\anaconda3\\lib\\site-packages (from requests->webdriver-manager) (2022.9.14)\n",
      "Note: you may need to restart the kernel to use updated packages.\n"
     ]
    }
   ],
   "source": [
    "%pip install webdriver-manager"
   ]
  },
  {
   "cell_type": "code",
   "execution_count": 3,
   "id": "3eb09261",
   "metadata": {},
   "outputs": [],
   "source": [
    "from selenium import webdriver\n",
    "from webdriver_manager.chrome import ChromeDriverManager\n",
    "from selenium.webdriver.common.by import By"
   ]
  },
  {
   "cell_type": "code",
   "execution_count": 29,
   "id": "6a051a44",
   "metadata": {},
   "outputs": [],
   "source": [
    "browser = webdriver.Chrome()\n",
    "url = 'https://news.naver.com/section/105'\n",
    "browser.get(url)"
   ]
  },
  {
   "cell_type": "code",
   "execution_count": 16,
   "id": "1a7bf6dd",
   "metadata": {},
   "outputs": [
    {
     "name": "stdout",
     "output_type": "stream",
     "text": [
      "“엔비디아 독주 막자”… ‘잠든 사자’ 인텔, 네이버와 손 잡고 반격 나섰다\n",
      "클라우드산업협회, 신임회장에 최지웅 KT클라우드 대표 선임\n",
      "메가존소프트, 구글클라우드 세일즈 파트너상 2개 수상\n",
      "1년 전 추억을 배달합니다…느린 우체통, 전국 324곳 설치\n",
      "삼성전자 ‘갤럭시 AI’ 지원 언어 확대\n",
      "\n",
      "\n",
      "\n",
      "전공의 공백, 전문병원 채운다…“중증·응급 심장수술, 대학병원 수준으로 보상”\n",
      "김경진 델 “이더리움 창시자도 선택”…'AI PC' 삼성·LG 대비 확실한 ‘우위’ [인더인싸]\n",
      "델테크놀로지스 \"올해 PC 교체 수요↑, AI PC 지속 출시\"\n",
      "\"이더리움 창시자도 델 노트북 쓴다\"…델의 'AI PC' 자신감[현장+]\n",
      "위기 극복 열쇠는 IP… 게임업계, 외부 투자로 반전 노린다\n",
      "삼전 이어 인텔도 손 내밀었다…몸집 키우는 네이버의 AI 반도체 동맹\n",
      "이변 없는 당선, '안랩아닌 정치인 안철수 승리'가 남긴 의미\n",
      "서근희 애널 \"HK이노엔, 의료파업 우려 원외처방이 상쇄…1분기 비용 집중\"\n",
      "네이버-인텔 “韓 스타트업·대학과 힘 합쳐 엔비디아 맞설 것”\n",
      "“몇 초 만에 급속 충전 가능한 소듐전지 개발됐다”\n",
      "5나노 이하 최선단 파운드리, AI·애플 효과로 비중 확대\n",
      "“엔비디아보다 싸고 성능 좋아”… 네이버가 찜한 인텔, AI 반도체 시장 경쟁 가열\n",
      "[인터뷰]③ “5G 단독모드, 수익성 개선에 중추적 역할할 것”\n",
      "휴대폰 수요 포화에도 'AI·B2B' 돌파구…이통3사 \"조단위 영업익\" 예상\n",
      "올엠 흡수하는 컴투스, 플랫폼 다각화 '노림수'\n",
      "22대 총선 야권 압승…'단통법 폐지' 밀어붙인 尹정부의 운명은\n",
      "\"아이패드OS 17.5서 차기 아이패드 프로 OLED 디스플레이 탑재 확인\"\n",
      "“이 정도일 줄 몰랐다” 생각 속 ‘감정’까지 파악하는 기술 나왔다\n",
      "델, AI PC 신제품 8종 공개…\"하반기 AI PC 수요 폭발할 것\"\n",
      "\"명칭 길다\" 인텔 ‘제온6’ 브랜드 변화…“1300가구 1년 전기 사용량만큼 아낀다” [소부장반차장]\n",
      "“엔비디아 H100 대비 50% 더 빠르다”…인텔, AI 가속기 ‘가우디3’ 자신감 [소부장반차장]\n",
      "\"뭉쳐야 산다\"…AI 주도권 선점 노린 빅테크, 동맹 강화 안간힘\n",
      "과학계, 與 참패에 “과학자 명예 회복하려면 카르텔 진위 따져야”\n",
      "코스닥 입성하는 제일엠앤에스 “차세대 믹싱 공정 개발…올해 매출 2배 확대”\n",
      "의정 갈등 속 치러진 총선…약사 빠지고 의사들 대거 국회 입성\n",
      "개기일식 사진, 갤럭시S23 울트라가 으뜸…이유는?\n",
      "AI·플랫폼 규제 “새 국회에선 미래지향적으로”\n",
      "황희만 “케이블TV 비상경영대책회의 구성…합리적 대가산정 마련 목표”\n",
      "10대는 DM 쓰지, 카톡 안쓴다고?…통계 뜯어보니 \"틀렸다\" [팩트체크]\n",
      "몇초면 충전 `끝`…하이브리드 소듐이온전지 상용화 `청사진`\n",
      "소고기 대신 고등어, 정어리 많이 먹으면, 이렇게 된다고? [달콤한 사이언스]\n",
      "'SSG 대 KT' 슈퍼매치로 생중계…티빙, 야구팬 공략 박차\n",
      "열풍이라더니 적자 허덕이는 AI 기업\n",
      "엔씨소프트 ‘TL’, 신규 던전 ‘핏빛 분노의 섬’ 등장\n",
      "22대 국회에 입성한 과학기술·IT 전문가 9명\n",
      "연료 없는 로켓 시대 올까…NASA, 이달 말 ‘우주 범선’ 쏜다\n"
     ]
    }
   ],
   "source": [
    "news = browser.find_elements(By.CLASS_NAME,'sa_text_strong')\n",
    "for i in news:\n",
    "    print(i.text)"
   ]
  },
  {
   "cell_type": "code",
   "execution_count": 17,
   "id": "4aaddfb6",
   "metadata": {},
   "outputs": [
    {
     "name": "stdout",
     "output_type": "stream",
     "text": [
      "한국경제\n",
      "서울경제\n",
      "전자신문\n",
      "경향신문\n",
      "헤럴드경제\n",
      "\n",
      "\n",
      "\n",
      "블로터\n",
      "조선비즈\n",
      "디지털데일리\n",
      "지디넷코리아\n",
      "블로터\n",
      "디지털데일리\n",
      "디지털데일리\n",
      "디지털데일리\n",
      "디지털데일리\n",
      "한국경제\n",
      "서울경제\n",
      "데일리안\n",
      "지디넷코리아\n",
      "조선비즈\n",
      "디지털데일리\n",
      "한국경제\n",
      "아이뉴스24\n",
      "아이뉴스24\n",
      "조선비즈\n",
      "지디넷코리아\n",
      "헤럴드경제\n",
      "연합뉴스\n",
      "디지털데일리\n",
      "디지털데일리\n",
      "지디넷코리아\n",
      "조선비즈\n",
      "전자신문\n",
      "조선비즈\n",
      "지디넷코리아\n",
      "이데일리\n",
      "전자신문\n",
      "한국경제\n",
      "디지털타임스\n",
      "서울신문\n",
      "한국경제\n",
      "지디넷코리아\n"
     ]
    }
   ],
   "source": [
    "press = browser.find_elements(By.CLASS_NAME,'sa_text_press')\n",
    "for i in press:\n",
    "    print(i.text)"
   ]
  },
  {
   "cell_type": "code",
   "execution_count": 40,
   "id": "86b1ba57",
   "metadata": {},
   "outputs": [
    {
     "ename": "AttributeError",
     "evalue": "'list' object has no attribute 'get_attribute'",
     "output_type": "error",
     "traceback": [
      "\u001b[1;31m---------------------------------------------------------------------------\u001b[0m",
      "\u001b[1;31mAttributeError\u001b[0m                            Traceback (most recent call last)",
      "\u001b[1;32m~\\AppData\\Local\\Temp\\ipykernel_7764\\979198969.py\u001b[0m in \u001b[0;36m<module>\u001b[1;34m\u001b[0m\n\u001b[0;32m      1\u001b[0m \u001b[0mlink\u001b[0m \u001b[1;33m=\u001b[0m \u001b[0mbrowser\u001b[0m\u001b[1;33m.\u001b[0m\u001b[0mfind_elements\u001b[0m\u001b[1;33m(\u001b[0m\u001b[0mBy\u001b[0m\u001b[1;33m.\u001b[0m\u001b[0mCLASS_NAME\u001b[0m\u001b[1;33m,\u001b[0m\u001b[1;34m'sa_text_title'\u001b[0m\u001b[1;33m)\u001b[0m\u001b[1;33m\u001b[0m\u001b[1;33m\u001b[0m\u001b[0m\n\u001b[0;32m      2\u001b[0m \u001b[1;32mfor\u001b[0m \u001b[0mi\u001b[0m \u001b[1;32min\u001b[0m \u001b[0mlink\u001b[0m\u001b[1;33m:\u001b[0m\u001b[1;33m\u001b[0m\u001b[1;33m\u001b[0m\u001b[0m\n\u001b[1;32m----> 3\u001b[1;33m     \u001b[0meach_link\u001b[0m \u001b[1;33m=\u001b[0m \u001b[0mlink\u001b[0m\u001b[1;33m.\u001b[0m\u001b[0mget_attribute\u001b[0m\u001b[1;33m(\u001b[0m\u001b[1;34m'href'\u001b[0m\u001b[1;33m)\u001b[0m\u001b[1;33m\u001b[0m\u001b[1;33m\u001b[0m\u001b[0m\n\u001b[0m\u001b[0;32m      4\u001b[0m     \u001b[0meach_link\u001b[0m\u001b[1;33m\u001b[0m\u001b[1;33m\u001b[0m\u001b[0m\n",
      "\u001b[1;31mAttributeError\u001b[0m: 'list' object has no attribute 'get_attribute'"
     ]
    }
   ],
   "source": [
    "link = browser.find_elements(By.CLASS_NAME,'sa_text_title')\n",
    "for i in link:\n",
    "    each_link = link.get_attribute('href')\n",
    "    each_link"
   ]
  },
  {
   "cell_type": "code",
   "execution_count": 54,
   "id": "e1640f56",
   "metadata": {},
   "outputs": [
    {
     "name": "stdout",
     "output_type": "stream",
     "text": [
      "우정사업본부, 편지 1년 후 배달 ‘느린우체통’ 전국 324곳 운영 조선비즈 https://n.news.naver.com/mnews/article/366/0000984732\n",
      "정부, '지역 전략산업 정보보호 지원' 기업 수요 중심으로 개편 뉴시스 https://n.news.naver.com/mnews/article/003/0012486294\n",
      "삼성전자·인텔과 'AI칩 협력' 네이버, 서버 비용도 늘었다 블로터 https://n.news.naver.com/mnews/article/293/0000053427\n",
      "‘클라우드 3위’ 구글의 반격… 칩 개발, 우군 확보까지 국민일보 https://n.news.naver.com/mnews/article/005/0001687836\n",
      "디랩스 권준모 대표, SEABW 패널 스피커 참여[G-브리핑] 매일경제 https://n.news.naver.com/mnews/article/009/0005286628\n",
      "  https://n.news.naver.com/mnews/article/001/0014625812\n",
      "  https://n.news.naver.com/mnews/article/015/0004971526\n",
      "  https://n.news.naver.com/mnews/article/003/0012486664\n"
     ]
    }
   ],
   "source": [
    "parent = browser.find_element(By.CLASS_NAME,'as_section_headline ')\n",
    "news_container = parent.find_elements(By.CLASS_NAME,'sa_text')\n",
    "\n",
    "for elem in news_container:\n",
    "    title = elem.find_element(By.CLASS_NAME,'sa_text_title').text\n",
    "    press = elem.find_element(By.CLASS_NAME,'sa_text_press').text\n",
    "    link = elem.find_element(By.CLASS_NAME,'sa_text_title').get_attribute('href')\n",
    "    \n",
    "    print(title, press, link)"
   ]
  },
  {
   "cell_type": "code",
   "execution_count": 77,
   "id": "a6bcc77e",
   "metadata": {},
   "outputs": [
    {
     "name": "stdout",
     "output_type": "stream",
     "text": [
      "Defaulting to user installation because normal site-packages is not writeable\n",
      "Requirement already satisfied: pandas in c:\\programdata\\anaconda3\\lib\\site-packages (1.4.4)\n",
      "Requirement already satisfied: pytz>=2020.1 in c:\\programdata\\anaconda3\\lib\\site-packages (from pandas) (2022.1)\n",
      "Requirement already satisfied: numpy>=1.18.5 in c:\\programdata\\anaconda3\\lib\\site-packages (from pandas) (1.21.5)\n",
      "Requirement already satisfied: python-dateutil>=2.8.1 in c:\\programdata\\anaconda3\\lib\\site-packages (from pandas) (2.8.2)\n",
      "Requirement already satisfied: six>=1.5 in c:\\programdata\\anaconda3\\lib\\site-packages (from python-dateutil>=2.8.1->pandas) (1.16.0)\n"
     ]
    }
   ],
   "source": [
    "!pip install pandas"
   ]
  },
  {
   "cell_type": "code",
   "execution_count": 78,
   "id": "4d8411ab",
   "metadata": {},
   "outputs": [],
   "source": [
    "import pandas as pd"
   ]
  },
  {
   "cell_type": "code",
   "execution_count": 79,
   "id": "478711b5",
   "metadata": {},
   "outputs": [],
   "source": [
    "from datetime import datetime, timedelta\n",
    "yesterday = datetime.today() - timedelta(1)\n",
    "i = yesterday.strftime(\"%Y%m%d\")\n",
    "\n",
    "browser = webdriver.Chrome()\n",
    "url = f'https://news.naver.com/breakingnews/section/105/226?date={i}'\n",
    "browser.get(url)\n"
   ]
  },
  {
   "cell_type": "code",
   "execution_count": 81,
   "id": "f46feeaa",
   "metadata": {},
   "outputs": [
    {
     "ename": "StaleElementReferenceException",
     "evalue": "Message: stale element reference: stale element not found\n  (Session info: chrome=123.0.6312.122); For documentation on this error, please visit: https://www.selenium.dev/documentation/webdriver/troubleshooting/errors#stale-element-reference-exception\nStacktrace:\n\tGetHandleVerifier [0x00007FF62CF77032+63090]\n\t(No symbol) [0x00007FF62CEE2C82]\n\t(No symbol) [0x00007FF62CD7EC65]\n\t(No symbol) [0x00007FF62CD8E78B]\n\t(No symbol) [0x00007FF62CD8EFEA]\n\t(No symbol) [0x00007FF62CD84B29]\n\t(No symbol) [0x00007FF62CD82D3A]\n\t(No symbol) [0x00007FF62CD86159]\n\t(No symbol) [0x00007FF62CD86200]\n\t(No symbol) [0x00007FF62CDC460C]\n\t(No symbol) [0x00007FF62CDC4ADC]\n\t(No symbol) [0x00007FF62CDBA0AC]\n\t(No symbol) [0x00007FF62CDE701F]\n\t(No symbol) [0x00007FF62CDBA00A]\n\t(No symbol) [0x00007FF62CDE71F0]\n\t(No symbol) [0x00007FF62CE03412]\n\t(No symbol) [0x00007FF62CDE6D83]\n\t(No symbol) [0x00007FF62CDB83A8]\n\t(No symbol) [0x00007FF62CDB9441]\n\tGetHandleVerifier [0x00007FF62D3725AD+4238317]\n\tGetHandleVerifier [0x00007FF62D3AF70D+4488525]\n\tGetHandleVerifier [0x00007FF62D3A79EF+4456495]\n\tGetHandleVerifier [0x00007FF62D050576+953270]\n\t(No symbol) [0x00007FF62CEEE54F]\n\t(No symbol) [0x00007FF62CEE9224]\n\t(No symbol) [0x00007FF62CEE935B]\n\t(No symbol) [0x00007FF62CED9B94]\n\tBaseThreadInitThunk [0x00007FFBC7BF257D+29]\n\tRtlUserThreadStart [0x00007FFBC804AA48+40]\n",
     "output_type": "error",
     "traceback": [
      "\u001b[1;31m---------------------------------------------------------------------------\u001b[0m",
      "\u001b[1;31mStaleElementReferenceException\u001b[0m            Traceback (most recent call last)",
      "\u001b[1;32m~\\AppData\\Local\\Temp\\ipykernel_7764\\2918962937.py\u001b[0m in \u001b[0;36m<module>\u001b[1;34m\u001b[0m\n\u001b[0;32m      4\u001b[0m \u001b[0mnews_container\u001b[0m \u001b[1;33m=\u001b[0m \u001b[0mparent\u001b[0m\u001b[1;33m.\u001b[0m\u001b[0mfind_elements\u001b[0m\u001b[1;33m(\u001b[0m\u001b[0mBy\u001b[0m\u001b[1;33m.\u001b[0m\u001b[0mCLASS_NAME\u001b[0m\u001b[1;33m,\u001b[0m\u001b[1;34m'sa_item'\u001b[0m\u001b[1;33m)\u001b[0m\u001b[1;33m\u001b[0m\u001b[1;33m\u001b[0m\u001b[0m\n\u001b[0;32m      5\u001b[0m \u001b[1;32mfor\u001b[0m \u001b[0melem\u001b[0m \u001b[1;32min\u001b[0m \u001b[0mnews_container\u001b[0m\u001b[1;33m:\u001b[0m\u001b[1;33m\u001b[0m\u001b[1;33m\u001b[0m\u001b[0m\n\u001b[1;32m----> 6\u001b[1;33m     \u001b[0mtitle\u001b[0m \u001b[1;33m=\u001b[0m \u001b[0melem\u001b[0m\u001b[1;33m.\u001b[0m\u001b[0mfind_element\u001b[0m\u001b[1;33m(\u001b[0m\u001b[0mBy\u001b[0m\u001b[1;33m.\u001b[0m\u001b[0mCLASS_NAME\u001b[0m\u001b[1;33m,\u001b[0m\u001b[1;34m'sa_text_title'\u001b[0m\u001b[1;33m)\u001b[0m\u001b[1;33m.\u001b[0m\u001b[0mtext\u001b[0m\u001b[1;33m\u001b[0m\u001b[1;33m\u001b[0m\u001b[0m\n\u001b[0m\u001b[0;32m      7\u001b[0m     \u001b[0mpress\u001b[0m \u001b[1;33m=\u001b[0m \u001b[0melem\u001b[0m\u001b[1;33m.\u001b[0m\u001b[0mfind_element\u001b[0m\u001b[1;33m(\u001b[0m\u001b[0mBy\u001b[0m\u001b[1;33m.\u001b[0m\u001b[0mCLASS_NAME\u001b[0m\u001b[1;33m,\u001b[0m\u001b[1;34m'sa_text_press'\u001b[0m\u001b[1;33m)\u001b[0m\u001b[1;33m.\u001b[0m\u001b[0mtext\u001b[0m\u001b[1;33m\u001b[0m\u001b[1;33m\u001b[0m\u001b[0m\n\u001b[0;32m      8\u001b[0m     \u001b[0mlink\u001b[0m \u001b[1;33m=\u001b[0m \u001b[0melem\u001b[0m\u001b[1;33m.\u001b[0m\u001b[0mfind_element\u001b[0m\u001b[1;33m(\u001b[0m\u001b[0mBy\u001b[0m\u001b[1;33m.\u001b[0m\u001b[0mCLASS_NAME\u001b[0m\u001b[1;33m,\u001b[0m\u001b[1;34m'sa_text_title'\u001b[0m\u001b[1;33m)\u001b[0m\u001b[1;33m.\u001b[0m\u001b[0mget_attribute\u001b[0m\u001b[1;33m(\u001b[0m\u001b[1;34m'href'\u001b[0m\u001b[1;33m)\u001b[0m\u001b[1;33m\u001b[0m\u001b[1;33m\u001b[0m\u001b[0m\n",
      "\u001b[1;32m~\\AppData\\Roaming\\Python\\Python39\\site-packages\\selenium\\webdriver\\remote\\webelement.py\u001b[0m in \u001b[0;36mfind_element\u001b[1;34m(self, by, value)\u001b[0m\n\u001b[0;32m    415\u001b[0m             \u001b[0mvalue\u001b[0m \u001b[1;33m=\u001b[0m \u001b[1;34mf'[name=\"{value}\"]'\u001b[0m\u001b[1;33m\u001b[0m\u001b[1;33m\u001b[0m\u001b[0m\n\u001b[0;32m    416\u001b[0m \u001b[1;33m\u001b[0m\u001b[0m\n\u001b[1;32m--> 417\u001b[1;33m         \u001b[1;32mreturn\u001b[0m \u001b[0mself\u001b[0m\u001b[1;33m.\u001b[0m\u001b[0m_execute\u001b[0m\u001b[1;33m(\u001b[0m\u001b[0mCommand\u001b[0m\u001b[1;33m.\u001b[0m\u001b[0mFIND_CHILD_ELEMENT\u001b[0m\u001b[1;33m,\u001b[0m \u001b[1;33m{\u001b[0m\u001b[1;34m\"using\"\u001b[0m\u001b[1;33m:\u001b[0m \u001b[0mby\u001b[0m\u001b[1;33m,\u001b[0m \u001b[1;34m\"value\"\u001b[0m\u001b[1;33m:\u001b[0m \u001b[0mvalue\u001b[0m\u001b[1;33m}\u001b[0m\u001b[1;33m)\u001b[0m\u001b[1;33m[\u001b[0m\u001b[1;34m\"value\"\u001b[0m\u001b[1;33m]\u001b[0m\u001b[1;33m\u001b[0m\u001b[1;33m\u001b[0m\u001b[0m\n\u001b[0m\u001b[0;32m    418\u001b[0m \u001b[1;33m\u001b[0m\u001b[0m\n\u001b[0;32m    419\u001b[0m     \u001b[1;32mdef\u001b[0m \u001b[0mfind_elements\u001b[0m\u001b[1;33m(\u001b[0m\u001b[0mself\u001b[0m\u001b[1;33m,\u001b[0m \u001b[0mby\u001b[0m\u001b[1;33m=\u001b[0m\u001b[0mBy\u001b[0m\u001b[1;33m.\u001b[0m\u001b[0mID\u001b[0m\u001b[1;33m,\u001b[0m \u001b[0mvalue\u001b[0m\u001b[1;33m=\u001b[0m\u001b[1;32mNone\u001b[0m\u001b[1;33m)\u001b[0m \u001b[1;33m->\u001b[0m \u001b[0mList\u001b[0m\u001b[1;33m[\u001b[0m\u001b[0mWebElement\u001b[0m\u001b[1;33m]\u001b[0m\u001b[1;33m:\u001b[0m\u001b[1;33m\u001b[0m\u001b[1;33m\u001b[0m\u001b[0m\n",
      "\u001b[1;32m~\\AppData\\Roaming\\Python\\Python39\\site-packages\\selenium\\webdriver\\remote\\webelement.py\u001b[0m in \u001b[0;36m_execute\u001b[1;34m(self, command, params)\u001b[0m\n\u001b[0;32m    393\u001b[0m             \u001b[0mparams\u001b[0m \u001b[1;33m=\u001b[0m \u001b[1;33m{\u001b[0m\u001b[1;33m}\u001b[0m\u001b[1;33m\u001b[0m\u001b[1;33m\u001b[0m\u001b[0m\n\u001b[0;32m    394\u001b[0m         \u001b[0mparams\u001b[0m\u001b[1;33m[\u001b[0m\u001b[1;34m\"id\"\u001b[0m\u001b[1;33m]\u001b[0m \u001b[1;33m=\u001b[0m \u001b[0mself\u001b[0m\u001b[1;33m.\u001b[0m\u001b[0m_id\u001b[0m\u001b[1;33m\u001b[0m\u001b[1;33m\u001b[0m\u001b[0m\n\u001b[1;32m--> 395\u001b[1;33m         \u001b[1;32mreturn\u001b[0m \u001b[0mself\u001b[0m\u001b[1;33m.\u001b[0m\u001b[0m_parent\u001b[0m\u001b[1;33m.\u001b[0m\u001b[0mexecute\u001b[0m\u001b[1;33m(\u001b[0m\u001b[0mcommand\u001b[0m\u001b[1;33m,\u001b[0m \u001b[0mparams\u001b[0m\u001b[1;33m)\u001b[0m\u001b[1;33m\u001b[0m\u001b[1;33m\u001b[0m\u001b[0m\n\u001b[0m\u001b[0;32m    396\u001b[0m \u001b[1;33m\u001b[0m\u001b[0m\n\u001b[0;32m    397\u001b[0m     \u001b[1;32mdef\u001b[0m \u001b[0mfind_element\u001b[0m\u001b[1;33m(\u001b[0m\u001b[0mself\u001b[0m\u001b[1;33m,\u001b[0m \u001b[0mby\u001b[0m\u001b[1;33m=\u001b[0m\u001b[0mBy\u001b[0m\u001b[1;33m.\u001b[0m\u001b[0mID\u001b[0m\u001b[1;33m,\u001b[0m \u001b[0mvalue\u001b[0m\u001b[1;33m=\u001b[0m\u001b[1;32mNone\u001b[0m\u001b[1;33m)\u001b[0m \u001b[1;33m->\u001b[0m \u001b[0mWebElement\u001b[0m\u001b[1;33m:\u001b[0m\u001b[1;33m\u001b[0m\u001b[1;33m\u001b[0m\u001b[0m\n",
      "\u001b[1;32m~\\AppData\\Roaming\\Python\\Python39\\site-packages\\selenium\\webdriver\\remote\\webdriver.py\u001b[0m in \u001b[0;36mexecute\u001b[1;34m(self, driver_command, params)\u001b[0m\n\u001b[0;32m    345\u001b[0m         \u001b[0mresponse\u001b[0m \u001b[1;33m=\u001b[0m \u001b[0mself\u001b[0m\u001b[1;33m.\u001b[0m\u001b[0mcommand_executor\u001b[0m\u001b[1;33m.\u001b[0m\u001b[0mexecute\u001b[0m\u001b[1;33m(\u001b[0m\u001b[0mdriver_command\u001b[0m\u001b[1;33m,\u001b[0m \u001b[0mparams\u001b[0m\u001b[1;33m)\u001b[0m\u001b[1;33m\u001b[0m\u001b[1;33m\u001b[0m\u001b[0m\n\u001b[0;32m    346\u001b[0m         \u001b[1;32mif\u001b[0m \u001b[0mresponse\u001b[0m\u001b[1;33m:\u001b[0m\u001b[1;33m\u001b[0m\u001b[1;33m\u001b[0m\u001b[0m\n\u001b[1;32m--> 347\u001b[1;33m             \u001b[0mself\u001b[0m\u001b[1;33m.\u001b[0m\u001b[0merror_handler\u001b[0m\u001b[1;33m.\u001b[0m\u001b[0mcheck_response\u001b[0m\u001b[1;33m(\u001b[0m\u001b[0mresponse\u001b[0m\u001b[1;33m)\u001b[0m\u001b[1;33m\u001b[0m\u001b[1;33m\u001b[0m\u001b[0m\n\u001b[0m\u001b[0;32m    348\u001b[0m             \u001b[0mresponse\u001b[0m\u001b[1;33m[\u001b[0m\u001b[1;34m\"value\"\u001b[0m\u001b[1;33m]\u001b[0m \u001b[1;33m=\u001b[0m \u001b[0mself\u001b[0m\u001b[1;33m.\u001b[0m\u001b[0m_unwrap_value\u001b[0m\u001b[1;33m(\u001b[0m\u001b[0mresponse\u001b[0m\u001b[1;33m.\u001b[0m\u001b[0mget\u001b[0m\u001b[1;33m(\u001b[0m\u001b[1;34m\"value\"\u001b[0m\u001b[1;33m,\u001b[0m \u001b[1;32mNone\u001b[0m\u001b[1;33m)\u001b[0m\u001b[1;33m)\u001b[0m\u001b[1;33m\u001b[0m\u001b[1;33m\u001b[0m\u001b[0m\n\u001b[0;32m    349\u001b[0m             \u001b[1;32mreturn\u001b[0m \u001b[0mresponse\u001b[0m\u001b[1;33m\u001b[0m\u001b[1;33m\u001b[0m\u001b[0m\n",
      "\u001b[1;32m~\\AppData\\Roaming\\Python\\Python39\\site-packages\\selenium\\webdriver\\remote\\errorhandler.py\u001b[0m in \u001b[0;36mcheck_response\u001b[1;34m(self, response)\u001b[0m\n\u001b[0;32m    227\u001b[0m                 \u001b[0malert_text\u001b[0m \u001b[1;33m=\u001b[0m \u001b[0mvalue\u001b[0m\u001b[1;33m[\u001b[0m\u001b[1;34m\"alert\"\u001b[0m\u001b[1;33m]\u001b[0m\u001b[1;33m.\u001b[0m\u001b[0mget\u001b[0m\u001b[1;33m(\u001b[0m\u001b[1;34m\"text\"\u001b[0m\u001b[1;33m)\u001b[0m\u001b[1;33m\u001b[0m\u001b[1;33m\u001b[0m\u001b[0m\n\u001b[0;32m    228\u001b[0m             \u001b[1;32mraise\u001b[0m \u001b[0mexception_class\u001b[0m\u001b[1;33m(\u001b[0m\u001b[0mmessage\u001b[0m\u001b[1;33m,\u001b[0m \u001b[0mscreen\u001b[0m\u001b[1;33m,\u001b[0m \u001b[0mstacktrace\u001b[0m\u001b[1;33m,\u001b[0m \u001b[0malert_text\u001b[0m\u001b[1;33m)\u001b[0m  \u001b[1;31m# type: ignore[call-arg]  # mypy is not smart enough here\u001b[0m\u001b[1;33m\u001b[0m\u001b[1;33m\u001b[0m\u001b[0m\n\u001b[1;32m--> 229\u001b[1;33m         \u001b[1;32mraise\u001b[0m \u001b[0mexception_class\u001b[0m\u001b[1;33m(\u001b[0m\u001b[0mmessage\u001b[0m\u001b[1;33m,\u001b[0m \u001b[0mscreen\u001b[0m\u001b[1;33m,\u001b[0m \u001b[0mstacktrace\u001b[0m\u001b[1;33m)\u001b[0m\u001b[1;33m\u001b[0m\u001b[1;33m\u001b[0m\u001b[0m\n\u001b[0m",
      "\u001b[1;31mStaleElementReferenceException\u001b[0m: Message: stale element reference: stale element not found\n  (Session info: chrome=123.0.6312.122); For documentation on this error, please visit: https://www.selenium.dev/documentation/webdriver/troubleshooting/errors#stale-element-reference-exception\nStacktrace:\n\tGetHandleVerifier [0x00007FF62CF77032+63090]\n\t(No symbol) [0x00007FF62CEE2C82]\n\t(No symbol) [0x00007FF62CD7EC65]\n\t(No symbol) [0x00007FF62CD8E78B]\n\t(No symbol) [0x00007FF62CD8EFEA]\n\t(No symbol) [0x00007FF62CD84B29]\n\t(No symbol) [0x00007FF62CD82D3A]\n\t(No symbol) [0x00007FF62CD86159]\n\t(No symbol) [0x00007FF62CD86200]\n\t(No symbol) [0x00007FF62CDC460C]\n\t(No symbol) [0x00007FF62CDC4ADC]\n\t(No symbol) [0x00007FF62CDBA0AC]\n\t(No symbol) [0x00007FF62CDE701F]\n\t(No symbol) [0x00007FF62CDBA00A]\n\t(No symbol) [0x00007FF62CDE71F0]\n\t(No symbol) [0x00007FF62CE03412]\n\t(No symbol) [0x00007FF62CDE6D83]\n\t(No symbol) [0x00007FF62CDB83A8]\n\t(No symbol) [0x00007FF62CDB9441]\n\tGetHandleVerifier [0x00007FF62D3725AD+4238317]\n\tGetHandleVerifier [0x00007FF62D3AF70D+4488525]\n\tGetHandleVerifier [0x00007FF62D3A79EF+4456495]\n\tGetHandleVerifier [0x00007FF62D050576+953270]\n\t(No symbol) [0x00007FF62CEEE54F]\n\t(No symbol) [0x00007FF62CEE9224]\n\t(No symbol) [0x00007FF62CEE935B]\n\t(No symbol) [0x00007FF62CED9B94]\n\tBaseThreadInitThunk [0x00007FFBC7BF257D+29]\n\tRtlUserThreadStart [0x00007FFBC804AA48+40]\n"
     ]
    }
   ],
   "source": [
    "import time\n",
    "news_list = []\n",
    "parent = browser.find_element(By.CLASS_NAME,'section_latest_article')\n",
    "news_container = parent.find_elements(By.CLASS_NAME,'sa_item')\n",
    "for elem in news_container:\n",
    "    title = elem.find_element(By.CLASS_NAME,'sa_text_title').text\n",
    "    press = elem.find_element(By.CLASS_NAME,'sa_text_press').text\n",
    "    link = elem.find_element(By.CLASS_NAME,'sa_text_title').get_attribute('href')\n",
    "    browser.get(link)\n",
    "    time.sleep(3)\n",
    "    contents = browser.find_element(By.ID,'dic_area').text\n",
    "    \n",
    "    news_list.append({\n",
    "        '제목': title,\n",
    "        '언론사': press,\n",
    "        '내용':contents,\n",
    "        '링크': link\n",
    "    })\n",
    "    browser.back()\n",
    "df= pd.DataFrame(news_list)\n",
    "df.to_csv('naver_news.csv',encoding='UTF-8-sig')"
   ]
  },
  {
   "cell_type": "code",
   "execution_count": 61,
   "id": "176cecfc",
   "metadata": {},
   "outputs": [
    {
     "name": "stdout",
     "output_type": "stream",
     "text": [
      "20240410\n"
     ]
    }
   ],
   "source": [
    "\n"
   ]
  }
 ],
 "metadata": {
  "kernelspec": {
   "display_name": "Python 3 (ipykernel)",
   "language": "python",
   "name": "python3"
  },
  "language_info": {
   "codemirror_mode": {
    "name": "ipython",
    "version": 3
   },
   "file_extension": ".py",
   "mimetype": "text/x-python",
   "name": "python",
   "nbconvert_exporter": "python",
   "pygments_lexer": "ipython3",
   "version": "3.9.13"
  }
 },
 "nbformat": 4,
 "nbformat_minor": 5
}
